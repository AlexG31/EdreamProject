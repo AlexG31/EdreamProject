{
 "cells": [
  {
   "cell_type": "code",
   "execution_count": 13,
   "metadata": {},
   "outputs": [
    {
     "name": "stdout",
     "output_type": "stream",
     "text": [
      "Jack particularly criticized the Irish government's strategy in the Brexit negotiations\n",
      "20d7306392982ea0144632d5a39dfc5b919961f146dd557343919a81ae5b101a\n"
     ]
    }
   ],
   "source": [
    "import shutil, hashlib\n",
    "import base64\n",
    "import time, os\n",
    "\n",
    "def sha(text):\n",
    "    m = hashlib.sha256()\n",
    "    m.update(text.encode('utf8'))\n",
    "    sha_key = m.hexdigest()\n",
    "    return sha_key\n",
    "line = 'Jack particularly criticized the Irish government\\'s strategy in the Brexit negotiations'\n",
    "code = sha(line)\n",
    "print(line)\n",
    "time.sleep(0.5)\n",
    "print(code)\n",
    "\n",
    "pt = 'e1d40e01b8ebca27571761f87ab817aa4d798d7523d0486ac02b77fa60a91477.mp3'\n",
    "path = '/Users/AlexG/Documents/2019/E-Dream/2019.03/voices/'\n",
    "print(os.path.exists(path + pt))"
   ]
  },
  {
   "cell_type": "code",
   "execution_count": null,
   "metadata": {},
   "outputs": [],
   "source": [
    "# "
   ]
  }
 ],
 "metadata": {
  "kernelspec": {
   "display_name": "Python 3",
   "language": "python",
   "name": "python3"
  },
  "language_info": {
   "codemirror_mode": {
    "name": "ipython",
    "version": 3
   },
   "file_extension": ".py",
   "mimetype": "text/x-python",
   "name": "python",
   "nbconvert_exporter": "python",
   "pygments_lexer": "ipython3",
   "version": "3.6.2"
  }
 },
 "nbformat": 4,
 "nbformat_minor": 2
}
