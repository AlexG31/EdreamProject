{
 "cells": [
  {
   "cell_type": "code",
   "execution_count": 8,
   "metadata": {},
   "outputs": [],
   "source": [
    "import codecs, csv\n",
    "\n",
    "path = r'/Users/AlexG/Documents/2019/E-Dream/2019.03/lines/lines.csv'\n",
    "output_path = r'/Users/AlexG/Documents/2019/E-Dream/2019.03/lines/clean-lines.csv'\n",
    "\n",
    "fout = open(output_path, 'w', encoding = 'utf8')\n",
    "csv_writer = csv.writer(fout)\n",
    "with open(path, 'r', encoding = 'utf8') as fin:\n",
    "    csv_reader = csv.reader(fin)\n",
    "    for row in csv_reader:\n",
    "        if row is None or len(row) == 0 or len(row[0]) == 0:\n",
    "            #print(f'len: {len(row)}')\n",
    "            continue\n",
    "        if len(row[1]) == 0:\n",
    "            print(f'Error: {row}')\n",
    "        csv_writer.writerow(row[:2]) \n",
    "      \n",
    "        \n",
    "fout.close()\n",
    "        "
   ]
  },
  {
   "cell_type": "code",
   "execution_count": 4,
   "metadata": {},
   "outputs": [
    {
     "name": "stdout",
     "output_type": "stream",
     "text": [
      "/Users/AlexG/Documents/2019/E-Dream/2019.03/lines/clean-lines.csv\n"
     ]
    }
   ],
   "source": [
    "import json, csv\n",
    "import shutil, hashlib\n",
    "import base64\n",
    "import time, os\n",
    "\n",
    "def sha(text):\n",
    "    m = hashlib.sha256()\n",
    "    m.update(text.encode('utf8'))\n",
    "    sha_key = m.hexdigest()\n",
    "    return sha_key\n",
    "\n",
    "def generateScriptJson(path = r'/Users/AlexG/Documents/2019/E-Dream/2019.03/lines/clean-lines.csv',\n",
    "                      outputPath = r'/Users/AlexG/Documents/2019/E-Dream/2019.03/lines/clean-lines.json'):\n",
    "    print(path)\n",
    "    lines = []\n",
    "    with open(path, 'r', encoding = 'utf8') as fin:\n",
    "        csv_reader = csv.reader(fin)\n",
    "        for row in csv_reader:\n",
    "            lines.append([row[0], row[1], sha(row[0])])\n",
    "    with open(outputPath, 'w', encoding = 'utf8') as fout:\n",
    "        json.dump(lines, fout, indent = 4, ensure_ascii = False)\n",
    "generateScriptJson()"
   ]
  },
  {
   "cell_type": "code",
   "execution_count": null,
   "metadata": {},
   "outputs": [],
   "source": []
  }
 ],
 "metadata": {
  "kernelspec": {
   "display_name": "Python 3",
   "language": "python",
   "name": "python3"
  },
  "language_info": {
   "codemirror_mode": {
    "name": "ipython",
    "version": 3
   },
   "file_extension": ".py",
   "mimetype": "text/x-python",
   "name": "python",
   "nbconvert_exporter": "python",
   "pygments_lexer": "ipython3",
   "version": "3.6.2"
  }
 },
 "nbformat": 4,
 "nbformat_minor": 2
}
